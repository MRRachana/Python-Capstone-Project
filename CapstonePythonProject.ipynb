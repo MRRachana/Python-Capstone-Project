{
 "cells": [
  {
   "cell_type": "code",
   "execution_count": null,
   "id": "6809d7d9-73ed-4054-94e2-ad4f3bc54788",
   "metadata": {},
   "outputs": [],
   "source": []
  },
  {
   "cell_type": "code",
   "execution_count": 12,
   "id": "8e802e81-4e97-4d0f-b8ee-29d035129a7a",
   "metadata": {},
   "outputs": [],
   "source": [
    "# Import necessary libraries\n",
    "import pandas as pd\n",
    "import numpy as np\n",
    "\n",
    "# Task 1: Create DataFrames and Save as CSV Files\n",
    "\n",
    "# Employee DataFrame\n",
    "employee_data = {\n",
    "    'ID': ['A001', 'A002', 'A003', 'A004', 'A005'],\n",
    "    'Name': ['John Alter', 'Alice Luxumberg', 'Tom Sabestine', 'Nina Adgra', 'Amy Johny'],\n",
    "    'Gender': ['M', 'F', 'M', 'F', 'F'],\n",
    "    'City': ['Paris', 'London', 'Berlin', 'Newyork', 'Madrid'],\n",
    "    'Age': [25, 27, 29, 31, 30]\n",
    "}\n",
    "employee_df = pd.DataFrame(employee_data)\n",
    "employee_df.to_csv('employee.csv', index=False)\n",
    "\n",
    "# Seniority Level DataFrame\n",
    "seniority_data = {\n",
    "    'ID': ['A001', 'A002', 'A003', 'A004', 'A005'],\n",
    "    'Designation Level': [2, 2, 3, 2, 3]\n",
    "}\n",
    "seniority_df = pd.DataFrame(seniority_data)\n",
    "seniority_df.to_csv('seniority.csv', index=False)\n",
    "\n",
    "# Project DataFrame\n",
    "project_data = {\n",
    "    'ID': ['A001', 'A002', 'A003', 'A004', 'A005', 'A002', 'A005', 'A003', 'A001', 'A003', 'A001', 'A004', 'A004', 'A005'],\n",
    "    'Project': ['Project 1', 'Project 2', 'Project 3', 'Project 4', 'Project 5', 'Project 6', 'Project 7', 'Project 8', 'Project 9', 'Project 10', 'Project 11', 'Project 12', 'Project 13', 'Project 14'],\n",
    "    'Cost': [1002000, 2000000, 4500000, 5500000, None, 680000, 400000, 350000, None, 300000, 2000000, 1000000, 3000000, 200000],\n",
    "    'Status': ['Finished', 'Ongoing', 'Finished', 'Ongoing', 'Finished', 'Failed', 'Finished', 'Failed', 'Ongoing', 'Finished', 'Failed', 'Ongoing', 'Finished', 'Finished']\n",
    "}\n",
    "project_df = pd.DataFrame(project_data)\n",
    "project_df.to_csv('project.csv', index=False)"
   ]
  },
  {
   "cell_type": "code",
   "execution_count": 13,
   "id": "126c1115-4060-46a3-be2c-809b42fbc5cc",
   "metadata": {},
   "outputs": [],
   "source": [
    "# Task 2: Compute Missing Values Using Running Average\n",
    "project_df = pd.read_csv('project.csv')\n",
    "\n",
    "# Loop through each row to find missing values and compute running average\n",
    "for i in range(len(project_df)):\n",
    "    if pd.isna(project_df.loc[i, 'Cost']):\n",
    "        running_sum = 0\n",
    "        count = 0\n",
    "        for j in range(i):\n",
    "            if not pd.isna(project_df.loc[j, 'Cost']):\n",
    "                running_sum += project_df.loc[j, 'Cost']\n",
    "                count += 1\n",
    "        if count != 0:\n",
    "            project_df.loc[i, 'Cost'] = running_sum / count\n",
    "\n",
    "# Save updated Project DataFrame back to CSV\n",
    "project_df.to_csv('project.csv', index=False)"
   ]
  },
  {
   "cell_type": "code",
   "execution_count": 14,
   "id": "057205a8-dbd7-46df-adbc-627af1dba087",
   "metadata": {},
   "outputs": [],
   "source": [
    "# Task 3: Split Name Column into First Name and Last Name\n",
    "employee_df = pd.read_csv('employee.csv')\n",
    "\n",
    "# Split the Name column into First Name and Last Name\n",
    "employee_df[['First Name', 'Last Name']] = employee_df['Name'].str.split(' ', expand=True)\n",
    "\n",
    "# Drop the old Name column\n",
    "employee_df.drop(columns=['Name'], inplace=True)\n",
    "\n",
    "# Save the updated Employee DataFrame back to CSV\n",
    "employee_df.to_csv('employee.csv', index=False)\n"
   ]
  },
  {
   "cell_type": "code",
   "execution_count": 15,
   "id": "8068360a-3361-4c93-8517-d33d3809a685",
   "metadata": {},
   "outputs": [],
   "source": [
    "# Task 4: Join All Three DataFrames into One Single DataFrame\n",
    "employee_df = pd.read_csv('employee.csv')\n",
    "seniority_df = pd.read_csv('seniority.csv')\n",
    "project_df = pd.read_csv('project.csv')\n",
    "\n",
    "# Merge the dataframes on 'ID' column\n",
    "final_df = employee_df.merge(seniority_df, on='ID').merge(project_df, on='ID')\n",
    "\n",
    "# Save the final merged DataFrame to CSV\n",
    "final_df.to_csv('final.csv', index=False)"
   ]
  },
  {
   "cell_type": "code",
   "execution_count": 16,
   "id": "82af9b91-f9d3-4241-b73e-8aff9925dc20",
   "metadata": {},
   "outputs": [],
   "source": [
    "# Task 5: Add a Bonus Column\n",
    "# Add Bonus column based on 5% of the project cost for finished projects\n",
    "final_df['Bonus'] = final_df.apply(lambda row: row['Cost'] * 0.05 if row['Status'] == 'Finished' else 0, axis=1)\n",
    "#print(final_df)\n",
    "# Save updated Final DataFrame back to CSV\n",
    "final_df.to_csv('final.csv', index=False)"
   ]
  },
  {
   "cell_type": "code",
   "execution_count": 17,
   "id": "bfd8ab06-1635-4af4-8a29-d0367fe69425",
   "metadata": {},
   "outputs": [],
   "source": [
    "# Task 6: Demote Designation Level and Remove Ineligible Employees\n",
    "# Demote designation level by 1 for projects with status 'Failed'\n",
    "final_df.loc[final_df['Status'] == 'Failed', 'Designation Level'] += 1\n",
    "\n",
    "# Remove employees with designation level above 4\n",
    "final_df = final_df[final_df['Designation Level'] <= 4]\n",
    "\n",
    "# Save updated Final DataFrame back to CSV\n",
    "final_df.to_csv('final.csv', index=False)"
   ]
  },
  {
   "cell_type": "code",
   "execution_count": 18,
   "id": "1ce2c8cc-4c88-4b0c-9bc6-8ae6f701662e",
   "metadata": {},
   "outputs": [],
   "source": [
    "# Task 7: Add Mr./Mrs. to First Name and Drop Gender Column\n",
    "# Add 'Mr.' or 'Mrs.' prefix based on gender and drop the Gender column\n",
    "final_df['First Name'] = final_df.apply(lambda row: 'Mr. ' + row['First Name'] if row['Gender'] == 'M' else 'Mrs. ' + row['First Name'], axis=1)\n",
    "final_df.drop(columns=['Gender'], inplace=True)\n",
    "\n",
    "# Save updated Final DataFrame back to CSV\n",
    "final_df.to_csv('final.csv', index=False)"
   ]
  },
  {
   "cell_type": "code",
   "execution_count": 19,
   "id": "63537568-920b-4d7c-8ba6-37f807677fef",
   "metadata": {},
   "outputs": [],
   "source": [
    "# Task 8: Promote Designation Level for Employees Older than 29\n",
    "# Promote designation level by 1 for employees older than 29\n",
    "final_df.loc[final_df['Age'] > 29, 'Designation Level'] -= 1\n",
    "\n",
    "# Save updated Final DataFrame back to CSV\n",
    "final_df.to_csv('final.csv', index=False)"
   ]
  },
  {
   "cell_type": "code",
   "execution_count": 20,
   "id": "4cf550c4-6e69-4046-bd3e-816f18742741",
   "metadata": {},
   "outputs": [],
   "source": [
    "# Task 9: Add Total Project Cost for Each Employee\n",
    "# Calculate the total project cost for each employee\n",
    "total_proj_cost = final_df.groupby('ID').agg({'First Name': 'first', 'Cost': 'sum'}).reset_index()\n",
    "total_proj_cost.rename(columns={'Cost': 'Total Cost'}, inplace=True)\n",
    "\n",
    "# Save Total Project Cost DataFrame to CSV\n",
    "total_proj_cost.to_csv('total_proj_cost.csv', index=False)"
   ]
  },
  {
   "cell_type": "code",
   "execution_count": 21,
   "id": "a9c3a7ae-b8bc-4fc1-80cb-93a13f5707fe",
   "metadata": {},
   "outputs": [
    {
     "name": "stdout",
     "output_type": "stream",
     "text": [
      "      ID     City  Age  First Name  Last Name  Designation Level     Project  \\\n",
      "3   A002   London   27  Mrs. Alice  Luxumberg                  2   Project 2   \n",
      "4   A002   London   27  Mrs. Alice  Luxumberg                  3   Project 6   \n",
      "8   A004  Newyork   31   Mrs. Nina      Adgra                  1   Project 4   \n",
      "9   A004  Newyork   31   Mrs. Nina      Adgra                  1  Project 12   \n",
      "10  A004  Newyork   31   Mrs. Nina      Adgra                  1  Project 13   \n",
      "\n",
      "         Cost    Status     Bonus  \n",
      "3   2000000.0   Ongoing       0.0  \n",
      "4    680000.0    Failed       0.0  \n",
      "8   5500000.0   Ongoing       0.0  \n",
      "9   1000000.0   Ongoing       0.0  \n",
      "10  3000000.0  Finished  150000.0  \n"
     ]
    }
   ],
   "source": [
    "# Task 10: Print Employee Details for Cities Containing 'o'\n",
    "# Print details of employees whose city names contain the letter 'o'\n",
    "print(final_df[final_df['City'].str.contains('o', case=False)])"
   ]
  },
  {
   "cell_type": "code",
   "execution_count": null,
   "id": "6ac21811-d57e-4e0f-b3c9-db6a880566d5",
   "metadata": {},
   "outputs": [],
   "source": []
  }
 ],
 "metadata": {
  "kernelspec": {
   "display_name": "Python 3 (ipykernel)",
   "language": "python",
   "name": "python3"
  },
  "language_info": {
   "codemirror_mode": {
    "name": "ipython",
    "version": 3
   },
   "file_extension": ".py",
   "mimetype": "text/x-python",
   "name": "python",
   "nbconvert_exporter": "python",
   "pygments_lexer": "ipython3",
   "version": "3.12.4"
  }
 },
 "nbformat": 4,
 "nbformat_minor": 5
}
